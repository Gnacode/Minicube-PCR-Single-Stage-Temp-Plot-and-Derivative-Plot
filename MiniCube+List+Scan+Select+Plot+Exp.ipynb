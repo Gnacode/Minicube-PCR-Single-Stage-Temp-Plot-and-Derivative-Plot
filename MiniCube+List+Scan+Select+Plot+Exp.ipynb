{
 "cells": [
  {
   "cell_type": "code",
   "execution_count": 149,
   "metadata": {},
   "outputs": [],
   "source": [
    "%%capture minicube_on_network --no-stderr\n",
    "import sys\n",
    "import string\n",
    "sys.path.append('C:/Python27/Lib/site-packages')\n",
    "import zeroconf\n",
    "%run -p c:/GNAOP/pypcr_v2.py --scan"
   ]
  },
  {
   "cell_type": "code",
   "execution_count": null,
   "metadata": {},
   "outputs": [],
   "source": [
    "print(minicube_on_network)"
   ]
  },
  {
   "cell_type": "code",
   "execution_count": null,
   "metadata": {
    "collapsed": true
   },
   "outputs": [],
   "source": [
    "orig_stdout = sys.stdout\n",
    "f = file('c:/GNAOP/OPVAR.txt', 'w')\n",
    "sys.stdout = f \n",
    "print minicube_on_network\n",
    "stdout = orig_stdout\n",
    "f.close()"
   ]
  },
  {
   "cell_type": "code",
   "execution_count": 102,
   "metadata": {},
   "outputs": [],
   "source": [
    "%%capture experiments_in_selected_mc --no-stderr\n",
    "%run -p c:/GNAOP/pypcr_v2.py --list minicubepcr-00001F.local.\n",
    "type(experiments_in_selected_mc) is str"
   ]
  },
  {
   "cell_type": "code",
   "execution_count": 103,
   "metadata": {
    "scrolled": true
   },
   "outputs": [
    {
     "name": "stdout",
     "output_type": "stream",
     "text": [
      "Fetching experiments from http://192.168.35.114:80/api/control/experiments?index=0&size=100000...\n",
      "128EEDEC-1D3C-4153-9BFA-3B3D606A1A73\n",
      "99CC7B18-28B5-4A10-833C-DBA9C5A96ADD\n",
      "84F9354C-33AF-41D2-9FA0-42EB39F3B420\n",
      "A48FD085-1BD2-4413-862C-292CA9FE17B0\n",
      "7F43EEDA-E40A-4E45-8DD5-F29D16E0D794\n",
      "A83D2291-7C61-4B4F-A7C9-7CF1365142EA\n",
      "138D8904-8839-402E-8653-F281FE04631D\n",
      "F95A7FB4-6F12-4D0F-9BB3-0E41B7CE8D9E\n",
      "DF39B1E3-2B19-4F9E-BFBE-40B31F92A6A7\n",
      "4E0F025D-CE5D-426F-BF0D-10B30C41E64B\n",
      "51DA99AC-C5B0-44DA-8588-E348AE094795\n",
      "FED9E6C2-3EA0-44E0-A326-7A18AA01D9EF\n",
      "1678B890-B62C-40BF-953E-714B93FFA62F\n",
      "DB46418F-C9B7-4B78-A0D2-3BE776DF44BA\n",
      "248E47C5-7902-432D-BCB0-BBC3619ACE59\n",
      "14109D58-A831-44D6-B16B-2341056DB094\n",
      "DBB8AC40-DA0D-4585-9D19-0D7BBBA858E6\n",
      "8CFC4CF3-B898-4E80-A0AA-FFB73C23CCF7\n",
      "C69A66F5-2799-4CC8-9DCB-F8CD89A38708\n",
      "890F892B-E136-4DD0-9EB4-EF459BD12C08\n",
      "3E4CE514-D137-4DF1-8CFD-A997B4ECCAA6\n",
      "57F786B8-4764-423C-BCD7-92B7184F0F1D\n",
      "00DCC3E6-CC79-4DA6-AA75-E9261CD90D99\n",
      "AE0914DE-611B-4DED-949A-FAA04F5CDCFB\n",
      "5FD125BB-7202-471B-81CE-0747421F5EAE\n",
      "1A17C46E-B7FA-433B-ACFB-89A9EC84F5AD\n",
      "F8513BF9-D5D3-4B3B-ADEA-C2947E8EAE75\n",
      "22D8008C-0431-4970-AA50-D6DB951D7FE6\n",
      "194BD51C-DC1C-478D-B17D-C957BBE126F4\n",
      "854BF825-8743-41BF-9C3B-D1F198F3FB47\n",
      "C616EB20-22D8-4B53-9C63-A38F58B08D52\n",
      "615F293B-4F3A-4F74-9FD2-EBD9DE5BFCD5\n",
      "04FAEAB3-9FE6-4FD1-B595-52F1AB470B68\n",
      "D085F037-0740-43B7-AE2B-519E832E0F35\n",
      "4262BBB4-8A32-424F-89D1-AE13B06A1777\n",
      "3E6DB07C-2A86-4370-B6DE-102177143794\n",
      "5E17EEF8-21C3-4704-B5D4-5CEBF472FCFB\n",
      "B8BFBCE7-B95E-411A-B972-C8645B623C61\n",
      "1B95735A-09A9-4F6C-8920-7BC22E79DDA1\n",
      "73469486-367D-4A8A-AEAE-828874D50256\n",
      "10DB5D0D-C9D7-4943-ABE7-F172D3AE1F5F\n",
      "ACDFE37E-063F-48B5-8074-1D8ADD5B5446\n",
      "40AAEE53-9FEF-4711-B0DC-4BEC411D3BBF\n",
      "9484AEDE-3DF1-484B-ABD2-2CA2ECF1023F\n",
      "0B8D07A0-7C59-4732-B0EA-1F50FC6A44AA\n",
      "DEFDC6BF-8998-4570-969D-892164755183\n",
      "C2677D74-3A6F-49E6-9549-52433DE80842\n",
      "EE29DCFD-84FE-41B1-A358-133D39E19191\n",
      "32993C15-D3A5-4779-ABF7-DF3FCA9E0C7A\n",
      "5FCDF6C7-7E28-4201-8D80-151F743DAECA\n",
      "8055E27F-BD3E-4545-BDC3-C44EC3D73B35\n",
      "CCD2E852-75A8-4BCD-82DD-54707A4AECAC\n",
      "406DCFA8-683E-4B52-8B62-6DAA4B7DF141\n",
      "4E7DA381-8F95-43FA-97C6-9BC0E2D594C3\n",
      "C1D8F085-F51E-4281-9715-7CE358FA98B2\n",
      "6C4A4FAD-2D90-49DF-AFEB-E2E617CFE5B1\n",
      "DC142D44-11F6-4410-B53C-AD1922B4BF51\n",
      "4D9D31AF-0ECA-4BE5-9D67-AC6CD961A041\n",
      "E9A427BB-915C-4426-9BFB-28D901716DFA\n",
      "8887C0AD-9098-4025-B8B2-B133BE1140F1\n",
      "E4550AC3-B257-40DD-A760-C0A6D2703848\n",
      "D33903E2-9F0C-481F-8CCB-DF66347FEA65\n",
      "EED49C64-E560-45CC-912E-6151EBBF3ABA\n",
      "469328A7-C7B1-490A-8B3B-762D21C2B0CA\n",
      "1CBCD96C-48F4-4C5F-9B0E-2DB7B1ED3EFA\n",
      "9926C52D-A5AC-46EE-951B-1041665624E0\n",
      "6BDC976B-94B4-4B5A-8201-DB09A4FFC650\n",
      "E8CE9D18-A5F4-4542-B19B-59B4F6780A43\n",
      "815A9D28-76A5-4CF3-B39D-9802C1EA74E0\n",
      " \n"
     ]
    }
   ],
   "source": [
    "print(experiments_in_selected_mc)"
   ]
  },
  {
   "cell_type": "code",
   "execution_count": 123,
   "metadata": {},
   "outputs": [
    {
     "ename": "TypeError",
     "evalue": "show() takes exactly 1 argument (2 given)",
     "output_type": "error",
     "traceback": [
      "\u001b[1;31m---------------------------------------------------------------------------\u001b[0m",
      "\u001b[1;31mTypeError\u001b[0m                                 Traceback (most recent call last)",
      "\u001b[1;32m<ipython-input-123-e4bf7b3cdf6a>\u001b[0m in \u001b[0;36m<module>\u001b[1;34m()\u001b[0m\n\u001b[0;32m      2\u001b[0m \u001b[0mrx\u001b[0m \u001b[1;33m=\u001b[0m \u001b[0mre\u001b[0m\u001b[1;33m.\u001b[0m\u001b[0mcompile\u001b[0m\u001b[1;33m(\u001b[0m\u001b[1;34m\"(?:minicubepcr-|^)[^.]*\"\u001b[0m\u001b[1;33m)\u001b[0m\u001b[1;33m\u001b[0m\u001b[0m\n\u001b[0;32m      3\u001b[0m \u001b[1;32mtry\u001b[0m\u001b[1;33m:\u001b[0m\u001b[1;33m\u001b[0m\u001b[0m\n\u001b[1;32m----> 4\u001b[1;33m     \u001b[0mstrmc\u001b[0m \u001b[1;33m=\u001b[0m \u001b[0mstr\u001b[0m\u001b[1;33m(\u001b[0m\u001b[0mminicube_on_network\u001b[0m\u001b[1;33m)\u001b[0m\u001b[1;33m\u001b[0m\u001b[0m\n\u001b[0m\u001b[0;32m      5\u001b[0m \u001b[1;32mexcept\u001b[0m \u001b[0mZeroDivisionError\u001b[0m\u001b[1;33m:\u001b[0m\u001b[1;33m\u001b[0m\u001b[0m\n\u001b[0;32m      6\u001b[0m     \u001b[0mlogging\u001b[0m\u001b[1;33m.\u001b[0m\u001b[0minfo\u001b[0m\u001b[1;33m(\u001b[0m\u001b[1;34m'Infinite result'\u001b[0m\u001b[1;33m)\u001b[0m\u001b[1;33m\u001b[0m\u001b[0m\n",
      "\u001b[1;31mTypeError\u001b[0m: show() takes exactly 1 argument (2 given)"
     ]
    }
   ],
   "source": [
    "import re\n",
    "rx = re.compile(\"(?:minicubepcr-|^)[^.]*\")\n",
    "strmc = str(minicube_on_network) \n",
    "mcselected = rx.findall(strmc)\n",
    "mc_networkname = mcselected[1] + \".local\""
   ]
  },
  {
   "cell_type": "code",
   "execution_count": 124,
   "metadata": {},
   "outputs": [
    {
     "name": "stdout",
     "output_type": "stream",
     "text": [
      "minicubepcr-00001F.local\n"
     ]
    }
   ],
   "source": [
    "print mc_networkname"
   ]
  },
  {
   "cell_type": "code",
   "execution_count": 107,
   "metadata": {},
   "outputs": [
    {
     "data": {
      "text/plain": [
       "IPython.utils.capture.CapturedIO"
      ]
     },
     "execution_count": 107,
     "metadata": {},
     "output_type": "execute_result"
    }
   ],
   "source": [
    "type(experiments_in_selected_mc)"
   ]
  },
  {
   "cell_type": "code",
   "execution_count": 127,
   "metadata": {},
   "outputs": [
    {
     "name": "stdout",
     "output_type": "stream",
     "text": [
      "Scanning for Minicubes...\n",
      "Service minicubepcr-00001F._gnacode-pcr._tcp.local. added.\n",
      "done\n",
      "\n",
      " \n"
     ]
    }
   ],
   "source": [
    "print (minicube_on_network"
   ]
  },
  {
   "cell_type": "code",
   "execution_count": 134,
   "metadata": {},
   "outputs": [
    {
     "ename": "TypeError",
     "evalue": "show() takes exactly 1 argument (2 given)",
     "output_type": "error",
     "traceback": [
      "\u001b[1;31m---------------------------------------------------------------------------\u001b[0m",
      "\u001b[1;31mTypeError\u001b[0m                                 Traceback (most recent call last)",
      "\u001b[1;32m<ipython-input-134-fc467680164d>\u001b[0m in \u001b[0;36m<module>\u001b[1;34m()\u001b[0m\n\u001b[1;32m----> 1\u001b[1;33m \u001b[1;32mprint\u001b[0m\u001b[1;33m(\u001b[0m\u001b[1;34m\"The 10th digit is {0:s}  and 20th is {1:s}\"\u001b[0m\u001b[1;33m.\u001b[0m\u001b[0mformat\u001b[0m\u001b[1;33m(\u001b[0m\u001b[0mstr\u001b[0m\u001b[1;33m(\u001b[0m\u001b[0mminicube_on_network\u001b[0m\u001b[1;33m)\u001b[0m\u001b[1;33m,\u001b[0m\u001b[0mminicube_on_network\u001b[0m\u001b[1;33m)\u001b[0m\u001b[1;33m)\u001b[0m\u001b[1;33m\u001b[0m\u001b[0m\n\u001b[0m",
      "\u001b[1;31mTypeError\u001b[0m: show() takes exactly 1 argument (2 given)"
     ]
    }
   ],
   "source": [
    "print(\"The 10th digit is {0:s}  and 20th is {1:s}\".format(str(minicube_on_network),minicube_on_network))"
   ]
  },
  {
   "cell_type": "code",
   "execution_count": 142,
   "metadata": {},
   "outputs": [
    {
     "ename": "SyntaxError",
     "evalue": "invalid syntax (<ipython-input-142-50744382e6fb>, line 1)",
     "output_type": "error",
     "traceback": [
      "\u001b[1;36m  File \u001b[1;32m\"<ipython-input-142-50744382e6fb>\"\u001b[1;36m, line \u001b[1;32m1\u001b[0m\n\u001b[1;33m    print(%s,\"minicube_on_network\")\u001b[0m\n\u001b[1;37m          ^\u001b[0m\n\u001b[1;31mSyntaxError\u001b[0m\u001b[1;31m:\u001b[0m invalid syntax\n"
     ]
    }
   ],
   "source": [
    "print(%s,\"minicube_on_network\")\n"
   ]
  },
  {
   "cell_type": "code",
   "execution_count": 152,
   "metadata": {},
   "outputs": [
    {
     "ename": "NameError",
     "evalue": "name 'c' is not defined",
     "output_type": "error",
     "traceback": [
      "\u001b[1;31m---------------------------------------------------------------------------\u001b[0m",
      "\u001b[1;31mNameError\u001b[0m                                 Traceback (most recent call last)",
      "\u001b[1;32m<ipython-input-152-01f85c25da66>\u001b[0m in \u001b[0;36m<module>\u001b[1;34m()\u001b[0m\n\u001b[1;32m----> 1\u001b[1;33m \u001b[0mc\u001b[0m\u001b[1;33m(\u001b[0m\u001b[0mminicube_on_network\u001b[0m\u001b[1;33m)\u001b[0m\u001b[1;33m\u001b[0m\u001b[0m\n\u001b[0m",
      "\u001b[1;31mNameError\u001b[0m: name 'c' is not defined"
     ]
    }
   ],
   "source": [
    "c(minicube_on_network)"
   ]
  },
  {
   "cell_type": "code",
   "execution_count": 154,
   "metadata": {},
   "outputs": [
    {
     "ename": "NameError",
     "evalue": "name 'show' is not defined",
     "output_type": "error",
     "traceback": [
      "\u001b[1;31m---------------------------------------------------------------------------\u001b[0m",
      "\u001b[1;31mNameError\u001b[0m                                 Traceback (most recent call last)",
      "\u001b[1;32m<ipython-input-154-ca94444d24bc>\u001b[0m in \u001b[0;36m<module>\u001b[1;34m()\u001b[0m\n\u001b[1;32m----> 1\u001b[1;33m \u001b[0mshow\u001b[0m\u001b[1;33m(\u001b[0m\u001b[1;33m)\u001b[0m\u001b[1;33m\u001b[0m\u001b[0m\n\u001b[0m",
      "\u001b[1;31mNameError\u001b[0m: name 'show' is not defined"
     ]
    }
   ],
   "source": [
    "show()"
   ]
  },
  {
   "cell_type": "code",
   "execution_count": null,
   "metadata": {
    "collapsed": true
   },
   "outputs": [],
   "source": []
  }
 ],
 "metadata": {
  "kernelspec": {
   "display_name": "Python 2",
   "language": "python",
   "name": "python2"
  },
  "language_info": {
   "codemirror_mode": {
    "name": "ipython",
    "version": 2
   },
   "file_extension": ".py",
   "mimetype": "text/x-python",
   "name": "python",
   "nbconvert_exporter": "python",
   "pygments_lexer": "ipython2",
   "version": "2.7.13"
  }
 },
 "nbformat": 4,
 "nbformat_minor": 2
}
